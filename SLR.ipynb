{
 "cells": [
  {
   "cell_type": "code",
   "execution_count": 2,
   "metadata": {},
   "outputs": [],
   "source": [
    "import pandas as pd\n",
    "import matplotlib as plt\n",
    "import seaborn as sns\n",
    "import tkinter as tk\n",
    "from tkinter import filedialog"
   ]
  },
  {
   "cell_type": "code",
   "execution_count": 3,
   "metadata": {},
   "outputs": [],
   "source": [
    "df= pd.read_csv('Modelo.csv')"
   ]
  },
  {
   "cell_type": "code",
   "execution_count": 4,
   "metadata": {},
   "outputs": [
    {
     "data": {
      "text/html": [
       "<div>\n",
       "<style scoped>\n",
       "    .dataframe tbody tr th:only-of-type {\n",
       "        vertical-align: middle;\n",
       "    }\n",
       "\n",
       "    .dataframe tbody tr th {\n",
       "        vertical-align: top;\n",
       "    }\n",
       "\n",
       "    .dataframe thead th {\n",
       "        text-align: right;\n",
       "    }\n",
       "</style>\n",
       "<table border=\"1\" class=\"dataframe\">\n",
       "  <thead>\n",
       "    <tr style=\"text-align: right;\">\n",
       "      <th></th>\n",
       "      <th>YearBuilt</th>\n",
       "      <th>YearRemodAdd</th>\n",
       "      <th>OverallQual</th>\n",
       "      <th>LotArea</th>\n",
       "      <th>SalePrice</th>\n",
       "    </tr>\n",
       "  </thead>\n",
       "  <tbody>\n",
       "    <tr>\n",
       "      <th>0</th>\n",
       "      <td>2003</td>\n",
       "      <td>2003</td>\n",
       "      <td>7</td>\n",
       "      <td>8450</td>\n",
       "      <td>208500</td>\n",
       "    </tr>\n",
       "    <tr>\n",
       "      <th>1</th>\n",
       "      <td>1976</td>\n",
       "      <td>1976</td>\n",
       "      <td>6</td>\n",
       "      <td>9600</td>\n",
       "      <td>181500</td>\n",
       "    </tr>\n",
       "    <tr>\n",
       "      <th>2</th>\n",
       "      <td>2001</td>\n",
       "      <td>2002</td>\n",
       "      <td>7</td>\n",
       "      <td>11250</td>\n",
       "      <td>223500</td>\n",
       "    </tr>\n",
       "    <tr>\n",
       "      <th>3</th>\n",
       "      <td>1915</td>\n",
       "      <td>1970</td>\n",
       "      <td>7</td>\n",
       "      <td>9550</td>\n",
       "      <td>140000</td>\n",
       "    </tr>\n",
       "    <tr>\n",
       "      <th>4</th>\n",
       "      <td>2000</td>\n",
       "      <td>2000</td>\n",
       "      <td>8</td>\n",
       "      <td>14260</td>\n",
       "      <td>250000</td>\n",
       "    </tr>\n",
       "  </tbody>\n",
       "</table>\n",
       "</div>"
      ],
      "text/plain": [
       "   YearBuilt  YearRemodAdd  OverallQual  LotArea  SalePrice\n",
       "0       2003          2003            7     8450     208500\n",
       "1       1976          1976            6     9600     181500\n",
       "2       2001          2002            7    11250     223500\n",
       "3       1915          1970            7     9550     140000\n",
       "4       2000          2000            8    14260     250000"
      ]
     },
     "execution_count": 4,
     "metadata": {},
     "output_type": "execute_result"
    }
   ],
   "source": [
    "df.head()"
   ]
  },
  {
   "cell_type": "code",
   "execution_count": 5,
   "metadata": {},
   "outputs": [],
   "source": [
    "x= df.drop(columns= \"SalePrice\")"
   ]
  },
  {
   "cell_type": "code",
   "execution_count": 6,
   "metadata": {},
   "outputs": [
    {
     "data": {
      "text/html": [
       "<div>\n",
       "<style scoped>\n",
       "    .dataframe tbody tr th:only-of-type {\n",
       "        vertical-align: middle;\n",
       "    }\n",
       "\n",
       "    .dataframe tbody tr th {\n",
       "        vertical-align: top;\n",
       "    }\n",
       "\n",
       "    .dataframe thead th {\n",
       "        text-align: right;\n",
       "    }\n",
       "</style>\n",
       "<table border=\"1\" class=\"dataframe\">\n",
       "  <thead>\n",
       "    <tr style=\"text-align: right;\">\n",
       "      <th></th>\n",
       "      <th>YearBuilt</th>\n",
       "      <th>YearRemodAdd</th>\n",
       "      <th>OverallQual</th>\n",
       "      <th>LotArea</th>\n",
       "    </tr>\n",
       "  </thead>\n",
       "  <tbody>\n",
       "    <tr>\n",
       "      <th>0</th>\n",
       "      <td>2003</td>\n",
       "      <td>2003</td>\n",
       "      <td>7</td>\n",
       "      <td>8450</td>\n",
       "    </tr>\n",
       "    <tr>\n",
       "      <th>1</th>\n",
       "      <td>1976</td>\n",
       "      <td>1976</td>\n",
       "      <td>6</td>\n",
       "      <td>9600</td>\n",
       "    </tr>\n",
       "    <tr>\n",
       "      <th>2</th>\n",
       "      <td>2001</td>\n",
       "      <td>2002</td>\n",
       "      <td>7</td>\n",
       "      <td>11250</td>\n",
       "    </tr>\n",
       "    <tr>\n",
       "      <th>3</th>\n",
       "      <td>1915</td>\n",
       "      <td>1970</td>\n",
       "      <td>7</td>\n",
       "      <td>9550</td>\n",
       "    </tr>\n",
       "    <tr>\n",
       "      <th>4</th>\n",
       "      <td>2000</td>\n",
       "      <td>2000</td>\n",
       "      <td>8</td>\n",
       "      <td>14260</td>\n",
       "    </tr>\n",
       "    <tr>\n",
       "      <th>...</th>\n",
       "      <td>...</td>\n",
       "      <td>...</td>\n",
       "      <td>...</td>\n",
       "      <td>...</td>\n",
       "    </tr>\n",
       "    <tr>\n",
       "      <th>1455</th>\n",
       "      <td>1999</td>\n",
       "      <td>2000</td>\n",
       "      <td>6</td>\n",
       "      <td>7917</td>\n",
       "    </tr>\n",
       "    <tr>\n",
       "      <th>1456</th>\n",
       "      <td>1978</td>\n",
       "      <td>1988</td>\n",
       "      <td>6</td>\n",
       "      <td>13175</td>\n",
       "    </tr>\n",
       "    <tr>\n",
       "      <th>1457</th>\n",
       "      <td>1941</td>\n",
       "      <td>2006</td>\n",
       "      <td>7</td>\n",
       "      <td>9042</td>\n",
       "    </tr>\n",
       "    <tr>\n",
       "      <th>1458</th>\n",
       "      <td>1950</td>\n",
       "      <td>1996</td>\n",
       "      <td>5</td>\n",
       "      <td>9717</td>\n",
       "    </tr>\n",
       "    <tr>\n",
       "      <th>1459</th>\n",
       "      <td>1965</td>\n",
       "      <td>1965</td>\n",
       "      <td>5</td>\n",
       "      <td>9937</td>\n",
       "    </tr>\n",
       "  </tbody>\n",
       "</table>\n",
       "<p>1460 rows × 4 columns</p>\n",
       "</div>"
      ],
      "text/plain": [
       "      YearBuilt  YearRemodAdd  OverallQual  LotArea\n",
       "0          2003          2003            7     8450\n",
       "1          1976          1976            6     9600\n",
       "2          2001          2002            7    11250\n",
       "3          1915          1970            7     9550\n",
       "4          2000          2000            8    14260\n",
       "...         ...           ...          ...      ...\n",
       "1455       1999          2000            6     7917\n",
       "1456       1978          1988            6    13175\n",
       "1457       1941          2006            7     9042\n",
       "1458       1950          1996            5     9717\n",
       "1459       1965          1965            5     9937\n",
       "\n",
       "[1460 rows x 4 columns]"
      ]
     },
     "execution_count": 6,
     "metadata": {},
     "output_type": "execute_result"
    }
   ],
   "source": [
    "x\n"
   ]
  },
  {
   "cell_type": "code",
   "execution_count": 7,
   "metadata": {},
   "outputs": [],
   "source": [
    "y = df[\"SalePrice\"]"
   ]
  },
  {
   "cell_type": "code",
   "execution_count": 8,
   "metadata": {},
   "outputs": [],
   "source": [
    "from sklearn.model_selection import train_test_split\n",
    "x_train, X_test, y_train, y_test = train_test_split(x,y, test_size = 0.3, random_state= 0)"
   ]
  },
  {
   "cell_type": "code",
   "execution_count": 9,
   "metadata": {},
   "outputs": [],
   "source": [
    "from sklearn.linear_model import LinearRegression\n",
    "Lr = LinearRegression()"
   ]
  },
  {
   "cell_type": "code",
   "execution_count": 10,
   "metadata": {},
   "outputs": [
    {
     "data": {
      "text/html": [
       "<style>#sk-container-id-1 {color: black;}#sk-container-id-1 pre{padding: 0;}#sk-container-id-1 div.sk-toggleable {background-color: white;}#sk-container-id-1 label.sk-toggleable__label {cursor: pointer;display: block;width: 100%;margin-bottom: 0;padding: 0.3em;box-sizing: border-box;text-align: center;}#sk-container-id-1 label.sk-toggleable__label-arrow:before {content: \"▸\";float: left;margin-right: 0.25em;color: #696969;}#sk-container-id-1 label.sk-toggleable__label-arrow:hover:before {color: black;}#sk-container-id-1 div.sk-estimator:hover label.sk-toggleable__label-arrow:before {color: black;}#sk-container-id-1 div.sk-toggleable__content {max-height: 0;max-width: 0;overflow: hidden;text-align: left;background-color: #f0f8ff;}#sk-container-id-1 div.sk-toggleable__content pre {margin: 0.2em;color: black;border-radius: 0.25em;background-color: #f0f8ff;}#sk-container-id-1 input.sk-toggleable__control:checked~div.sk-toggleable__content {max-height: 200px;max-width: 100%;overflow: auto;}#sk-container-id-1 input.sk-toggleable__control:checked~label.sk-toggleable__label-arrow:before {content: \"▾\";}#sk-container-id-1 div.sk-estimator input.sk-toggleable__control:checked~label.sk-toggleable__label {background-color: #d4ebff;}#sk-container-id-1 div.sk-label input.sk-toggleable__control:checked~label.sk-toggleable__label {background-color: #d4ebff;}#sk-container-id-1 input.sk-hidden--visually {border: 0;clip: rect(1px 1px 1px 1px);clip: rect(1px, 1px, 1px, 1px);height: 1px;margin: -1px;overflow: hidden;padding: 0;position: absolute;width: 1px;}#sk-container-id-1 div.sk-estimator {font-family: monospace;background-color: #f0f8ff;border: 1px dotted black;border-radius: 0.25em;box-sizing: border-box;margin-bottom: 0.5em;}#sk-container-id-1 div.sk-estimator:hover {background-color: #d4ebff;}#sk-container-id-1 div.sk-parallel-item::after {content: \"\";width: 100%;border-bottom: 1px solid gray;flex-grow: 1;}#sk-container-id-1 div.sk-label:hover label.sk-toggleable__label {background-color: #d4ebff;}#sk-container-id-1 div.sk-serial::before {content: \"\";position: absolute;border-left: 1px solid gray;box-sizing: border-box;top: 0;bottom: 0;left: 50%;z-index: 0;}#sk-container-id-1 div.sk-serial {display: flex;flex-direction: column;align-items: center;background-color: white;padding-right: 0.2em;padding-left: 0.2em;position: relative;}#sk-container-id-1 div.sk-item {position: relative;z-index: 1;}#sk-container-id-1 div.sk-parallel {display: flex;align-items: stretch;justify-content: center;background-color: white;position: relative;}#sk-container-id-1 div.sk-item::before, #sk-container-id-1 div.sk-parallel-item::before {content: \"\";position: absolute;border-left: 1px solid gray;box-sizing: border-box;top: 0;bottom: 0;left: 50%;z-index: -1;}#sk-container-id-1 div.sk-parallel-item {display: flex;flex-direction: column;z-index: 1;position: relative;background-color: white;}#sk-container-id-1 div.sk-parallel-item:first-child::after {align-self: flex-end;width: 50%;}#sk-container-id-1 div.sk-parallel-item:last-child::after {align-self: flex-start;width: 50%;}#sk-container-id-1 div.sk-parallel-item:only-child::after {width: 0;}#sk-container-id-1 div.sk-dashed-wrapped {border: 1px dashed gray;margin: 0 0.4em 0.5em 0.4em;box-sizing: border-box;padding-bottom: 0.4em;background-color: white;}#sk-container-id-1 div.sk-label label {font-family: monospace;font-weight: bold;display: inline-block;line-height: 1.2em;}#sk-container-id-1 div.sk-label-container {text-align: center;}#sk-container-id-1 div.sk-container {/* jupyter's `normalize.less` sets `[hidden] { display: none; }` but bootstrap.min.css set `[hidden] { display: none !important; }` so we also need the `!important` here to be able to override the default hidden behavior on the sphinx rendered scikit-learn.org. See: https://github.com/scikit-learn/scikit-learn/issues/21755 */display: inline-block !important;position: relative;}#sk-container-id-1 div.sk-text-repr-fallback {display: none;}</style><div id=\"sk-container-id-1\" class=\"sk-top-container\"><div class=\"sk-text-repr-fallback\"><pre>LinearRegression()</pre><b>In a Jupyter environment, please rerun this cell to show the HTML representation or trust the notebook. <br />On GitHub, the HTML representation is unable to render, please try loading this page with nbviewer.org.</b></div><div class=\"sk-container\" hidden><div class=\"sk-item\"><div class=\"sk-estimator sk-toggleable\"><input class=\"sk-toggleable__control sk-hidden--visually\" id=\"sk-estimator-id-1\" type=\"checkbox\" checked><label for=\"sk-estimator-id-1\" class=\"sk-toggleable__label sk-toggleable__label-arrow\">LinearRegression</label><div class=\"sk-toggleable__content\"><pre>LinearRegression()</pre></div></div></div></div></div>"
      ],
      "text/plain": [
       "LinearRegression()"
      ]
     },
     "execution_count": 10,
     "metadata": {},
     "output_type": "execute_result"
    }
   ],
   "source": [
    "Lr.fit(x_train,y_train)"
   ]
  },
  {
   "cell_type": "code",
   "execution_count": 11,
   "metadata": {},
   "outputs": [],
   "source": [
    "c = Lr.intercept_"
   ]
  },
  {
   "cell_type": "code",
   "execution_count": 12,
   "metadata": {},
   "outputs": [
    {
     "data": {
      "text/plain": [
       "-1216030.7841813816"
      ]
     },
     "execution_count": 12,
     "metadata": {},
     "output_type": "execute_result"
    }
   ],
   "source": [
    " c"
   ]
  },
  {
   "cell_type": "code",
   "execution_count": 13,
   "metadata": {},
   "outputs": [
    {
     "data": {
      "text/plain": [
       "array([1.79352740e+02, 3.99140270e+02, 3.85641199e+04, 1.56218782e+00])"
      ]
     },
     "execution_count": 13,
     "metadata": {},
     "output_type": "execute_result"
    }
   ],
   "source": [
    "m = Lr.coef_\n",
    "m"
   ]
  },
  {
   "cell_type": "code",
   "execution_count": 14,
   "metadata": {},
   "outputs": [],
   "source": [
    "y_pred_train = Lr.predict(x_train)"
   ]
  },
  {
   "cell_type": "code",
   "execution_count": 15,
   "metadata": {},
   "outputs": [
    {
     "data": {
      "text/plain": [
       "array([224213.24757626, 174935.16009736, 140694.83047335, ...,\n",
       "       173563.44665067, 218031.44708546, 235944.97926002])"
      ]
     },
     "execution_count": 15,
     "metadata": {},
     "output_type": "execute_result"
    }
   ],
   "source": [
    "y_pred_train"
   ]
  },
  {
   "cell_type": "code",
   "execution_count": 16,
   "metadata": {},
   "outputs": [
    {
     "data": {
      "image/png": "[encoded data removed]",
      "text/plain": [
       "<Figure size 640x480 with 1 Axes>"
      ]
     },
     "metadata": {},
     "output_type": "display_data"
    }
   ],
   "source": [
    "import matplotlib.pyplot as plt\n",
    "plt.scatter(y_train,y_pred_train)\n",
    "plt.xlabel(\"Actual SalePrice\")\n",
    "plt.ylabel(\"Predicted SalePrice\")\n",
    "plt.show()"
   ]
  },
  {
   "cell_type": "code",
   "execution_count": 17,
   "metadata": {},
   "outputs": [
    {
     "data": {
      "text/plain": [
       "0.6680736475165288"
      ]
     },
     "execution_count": 17,
     "metadata": {},
     "output_type": "execute_result"
    }
   ],
   "source": [
    "from sklearn.metrics import r2_score \n",
    "r2_score(y_train,y_pred_train)"
   ]
  },
  {
   "cell_type": "code",
   "execution_count": 18,
   "metadata": {},
   "outputs": [],
   "source": [
    "y_pred_test = Lr.predict(X_test)"
   ]
  },
  {
   "cell_type": "code",
   "execution_count": 19,
   "metadata": {},
   "outputs": [
    {
     "data": {
      "image/png": "[encoded data removed]",
      "text/plain": [
       "<Figure size 640x480 with 1 Axes>"
      ]
     },
     "metadata": {},
     "output_type": "display_data"
    }
   ],
   "source": [
    "plt.scatter(y_test,y_pred_test)\n",
    "plt.xlabel(\"Actual SalePrice\")\n",
    "plt.ylabel(\"Predicted SalePrice\")\n",
    "plt.show()"
   ]
  },
  {
   "cell_type": "code",
   "execution_count": 20,
   "metadata": {},
   "outputs": [
    {
     "data": {
      "text/plain": [
       "0.6775398555812735"
      ]
     },
     "execution_count": 20,
     "metadata": {},
     "output_type": "execute_result"
    }
   ],
   "source": [
    "r2_score(y_test,y_pred_test)"
   ]
  },
  {
   "cell_type": "code",
   "execution_count": 21,
   "metadata": {},
   "outputs": [
    {
     "data": {
      "text/html": [
       "<div>\n",
       "<style scoped>\n",
       "    .dataframe tbody tr th:only-of-type {\n",
       "        vertical-align: middle;\n",
       "    }\n",
       "\n",
       "    .dataframe tbody tr th {\n",
       "        vertical-align: top;\n",
       "    }\n",
       "\n",
       "    .dataframe thead th {\n",
       "        text-align: right;\n",
       "    }\n",
       "</style>\n",
       "<table border=\"1\" class=\"dataframe\">\n",
       "  <thead>\n",
       "    <tr style=\"text-align: right;\">\n",
       "      <th></th>\n",
       "      <th>YearBuilt</th>\n",
       "      <th>YearRemodAdd</th>\n",
       "      <th>OverallQual</th>\n",
       "      <th>LotArea</th>\n",
       "      <th>SalePrice</th>\n",
       "    </tr>\n",
       "  </thead>\n",
       "  <tbody>\n",
       "    <tr>\n",
       "      <th>YearBuilt</th>\n",
       "      <td>1.000000</td>\n",
       "      <td>0.592855</td>\n",
       "      <td>0.572323</td>\n",
       "      <td>0.014228</td>\n",
       "      <td>0.522897</td>\n",
       "    </tr>\n",
       "    <tr>\n",
       "      <th>YearRemodAdd</th>\n",
       "      <td>0.592855</td>\n",
       "      <td>1.000000</td>\n",
       "      <td>0.550684</td>\n",
       "      <td>0.013788</td>\n",
       "      <td>0.507101</td>\n",
       "    </tr>\n",
       "    <tr>\n",
       "      <th>OverallQual</th>\n",
       "      <td>0.572323</td>\n",
       "      <td>0.550684</td>\n",
       "      <td>1.000000</td>\n",
       "      <td>0.105806</td>\n",
       "      <td>0.790982</td>\n",
       "    </tr>\n",
       "    <tr>\n",
       "      <th>LotArea</th>\n",
       "      <td>0.014228</td>\n",
       "      <td>0.013788</td>\n",
       "      <td>0.105806</td>\n",
       "      <td>1.000000</td>\n",
       "      <td>0.263843</td>\n",
       "    </tr>\n",
       "    <tr>\n",
       "      <th>SalePrice</th>\n",
       "      <td>0.522897</td>\n",
       "      <td>0.507101</td>\n",
       "      <td>0.790982</td>\n",
       "      <td>0.263843</td>\n",
       "      <td>1.000000</td>\n",
       "    </tr>\n",
       "  </tbody>\n",
       "</table>\n",
       "</div>"
      ],
      "text/plain": [
       "              YearBuilt  YearRemodAdd  OverallQual   LotArea  SalePrice\n",
       "YearBuilt      1.000000      0.592855     0.572323  0.014228   0.522897\n",
       "YearRemodAdd   0.592855      1.000000     0.550684  0.013788   0.507101\n",
       "OverallQual    0.572323      0.550684     1.000000  0.105806   0.790982\n",
       "LotArea        0.014228      0.013788     0.105806  1.000000   0.263843\n",
       "SalePrice      0.522897      0.507101     0.790982  0.263843   1.000000"
      ]
     },
     "execution_count": 21,
     "metadata": {},
     "output_type": "execute_result"
    }
   ],
   "source": [
    "df.corr()"
   ]
  },
  {
   "cell_type": "code",
   "execution_count": 22,
   "metadata": {},
   "outputs": [
    {
     "data": {
      "text/plain": [
       "44996.33128992099"
      ]
     },
     "execution_count": 22,
     "metadata": {},
     "output_type": "execute_result"
    }
   ],
   "source": [
    "from math import sqrt\n",
    "from sklearn.metrics import mean_squared_error\n",
    "\n",
    "RMSEtrain =sqrt(mean_squared_error(y_train,y_pred_train))\n",
    "RMSEtrain"
   ]
  },
  {
   "cell_type": "code",
   "execution_count": 23,
   "metadata": {},
   "outputs": [
    {
     "data": {
      "text/plain": [
       "46788.66487206545"
      ]
     },
     "execution_count": 23,
     "metadata": {},
     "output_type": "execute_result"
    }
   ],
   "source": [
    "RMSEtest =sqrt(mean_squared_error(y_test,y_pred_test))\n",
    "RMSEtest"
   ]
  },
  {
   "cell_type": "code",
   "execution_count": 24,
   "metadata": {},
   "outputs": [
    {
     "data": {
      "text/plain": [
       "0.9616929957919242"
      ]
     },
     "execution_count": 24,
     "metadata": {},
     "output_type": "execute_result"
    }
   ],
   "source": [
    "RMSEtrain/RMSEtest"
   ]
  },
  {
   "cell_type": "code",
   "execution_count": 25,
   "metadata": {},
   "outputs": [
    {
     "data": {
      "text/plain": [
       "array([205682.83282355, 156626.29288561, 115809.93280479, 213228.42542833,\n",
       "       158188.13386902, 131276.68310848, 277350.38386908, 155143.40989371,\n",
       "       348688.5234453 , 221193.01637751, 221382.22832425, 137857.16345355,\n",
       "       227137.84783547, 126929.99455685, 161277.95838914, 122023.01401018,\n",
       "       222188.57657811, 104746.7538    , 143420.01696863, 201560.26353173,\n",
       "       119318.01149749, 181586.91722098, 125606.44959496, 181960.91388868,\n",
       "       171546.2902958 , 250322.02930726, 175647.10724496,  80881.32118273,\n",
       "       313236.13400938, 117560.47974476, 127405.23457322, 221409.52837102,\n",
       "       171392.00557804, 271744.99372646, 272598.69203054, 243157.41577803,\n",
       "       302349.05985731, 129606.87768874, 227684.20563785, 265542.55153999,\n",
       "       183478.45828255, 118888.29820694, 227492.24119209, 269930.88572974,\n",
       "       270623.26985338, 129546.77079826, 136573.87781869, 136529.30380482,\n",
       "       177084.61800155, 105261.79436706, 311550.16147278, 129601.93088814,\n",
       "       174109.72887228,  76304.94121889, 224536.65651413,  91392.20436553,\n",
       "       133429.37279941, 268705.8316175 , 126143.84220574, 113865.60668587,\n",
       "       164682.96707982, 124181.47406413, 140106.16914068, 134995.68192154,\n",
       "       183158.33470015, 160587.13388941, 146661.41322956, 236667.34214756,\n",
       "       127207.96108009, 232001.3104021 , 225794.44188929, 114469.73873521,\n",
       "        44823.62040699, 266154.18374851,  83702.11191507, 269984.96714792,\n",
       "       127735.22808029, 119471.44232319, 244467.75644226, 176897.4506955 ,\n",
       "       133453.72785984, 142761.09157819, 124977.14148669, 145146.44437013,\n",
       "       149862.19260713, 225840.04163197,  37707.97481007, 224806.06051405,\n",
       "       193824.38982376, 162827.79474233, 184852.11304802, 187825.25443368,\n",
       "       190203.50035387, 233072.48773191, 220901.07447506, 166259.32623175,\n",
       "       226739.56552163, 171700.46820369,  90541.89067423, 127776.0738079 ,\n",
       "       231988.21774392, 224045.08782445, 142611.93122684, 171454.00957481,\n",
       "       173933.81941725, 269748.07279641, 152574.94632369,  77468.7032573 ,\n",
       "       192022.81795224, 170061.4382194 , 125656.59180547,  85058.94633734,\n",
       "       178688.72465766, 115063.37010758, 216160.35400999, 162061.65287259,\n",
       "       349377.70851196, 124088.00303194, 174136.62098372, 266998.84384412,\n",
       "       225333.59648179, 220583.65148743, 126750.56623629, 207857.95861463,\n",
       "       226359.87830009, 222988.82557777, 314476.02762397, 225622.78588522,\n",
       "       221450.96458842, 176204.13922552, 220596.78276823, 227741.11257191,\n",
       "       132590.91666597, 180947.79684597,  92468.06825881, 225986.81427038,\n",
       "       157087.43715287, 224503.70287167,  96334.61676989, 178886.34103463,\n",
       "       186839.50922755, 142409.3410438 , 177956.72840606, 146591.09772957,\n",
       "        97430.65545332, 180695.05823671, 267460.17276774, 144450.02857386,\n",
       "       302888.01465591, 235048.28345017, 167409.46834539, 306359.084357  ,\n",
       "       310707.73173745, 130749.30509462, 242387.33671157, 224253.26840459,\n",
       "        93168.45610708, 234640.75508066, 150950.78889911, 220531.09529893,\n",
       "        94838.39070095, 129053.82624158, 227067.80962061,  93280.40592627,\n",
       "       271618.2332339 , 134522.5616646 , 146870.99637916, 224936.05702175,\n",
       "       226024.86331108, 184935.87603481, 180501.19744969, 174291.61339602,\n",
       "       183638.55334743, 186394.92250245, 141142.74240362, 146973.27977692,\n",
       "       138335.32145079, 183350.99205815, 149687.44863257, 176857.39397227,\n",
       "       269268.55052473, 217893.48395047, 144908.34933617, 271847.5785479 ,\n",
       "        83774.06005583, 172105.77681507, 157904.89435712, 225944.59657656,\n",
       "       220901.07447506, 181582.23065751, 143313.99805488, 185365.24112526,\n",
       "       229107.05988397, 145280.97717918, 125302.67427319, 175483.15220498,\n",
       "        80164.27697241, 164418.10194516, 164802.77202601, 119998.93906708,\n",
       "       124083.25114337, 250222.39884822, 115832.45515998, 134218.23286042,\n",
       "       127777.91840871, 134031.10524025, 165261.46009009, 305294.49069694,\n",
       "       273536.5268625 ,  34151.17199905, 157483.97001038, 257794.65647564,\n",
       "        41070.27822623, 109764.22534817, 357968.53369311, 186503.02936994,\n",
       "       216188.7713511 , 219419.82322448, 270273.18951912,  81966.44656345,\n",
       "       221384.49640772, 175011.44616406, 165690.84719258, 132512.54703773,\n",
       "       218503.41246407, 229636.9404154 , 266955.32586409, 192803.84457547,\n",
       "       135310.61671187, 213266.99660777,  40890.92548645, 213467.23437155,\n",
       "        94838.39070095, 150153.75267549, 254234.70240385, 150815.55190714,\n",
       "       132794.70787792, 133961.4239559 ,  78615.1448504 , 176694.74088298,\n",
       "       109780.784391  , 210319.38243904, 233941.06416096, 229456.32178365,\n",
       "       173453.12647091, 247143.1394307 , 249294.86721725, 226215.45022537,\n",
       "       118054.66092703, 224411.83008601, 182761.53190282, 269698.30440061,\n",
       "       106171.791077  , 351441.24698538, 268171.93525899, 227833.09699706,\n",
       "       128775.30299695, 220632.07930991, 334786.97164543, 431027.87261147,\n",
       "       253420.82943369,  78684.45213162, 126145.73931203,  94148.0703679 ,\n",
       "       354170.09281465, 307590.57187687, 264102.54053152,  72041.22812573,\n",
       "       212201.83659648, 270460.05690217, 132926.54173208, 216284.50048468,\n",
       "       130114.79193593, 194399.63460051, 145223.17777867, 229061.75643713,\n",
       "       268267.25089198, 214260.38195492, 232977.38149504,  78153.03671606,\n",
       "       132887.47211502, 316891.76515245, 153696.89185952, 121029.13442921,\n",
       "       224938.54761916, 122113.84418284, 158766.62687928, 262362.23343016,\n",
       "       355330.49950666, 150627.15220389,  72819.99904768, 129078.80780129,\n",
       "       310349.9907262 , 122103.54098183, 142872.64022976, 271347.60286406,\n",
       "       233289.93069893, 225333.59648179, 165618.12242962, 214343.52957295,\n",
       "        82085.65635403, 151174.25738669, 223866.21860078, 187468.25807512,\n",
       "       164700.03950637, 163397.62142075, 145191.44849518, 146289.25816133,\n",
       "       229041.33635595, 221057.3679386 , 116098.93755187, 182232.95618421,\n",
       "       188132.31240683, 109013.73688874, 131908.01684673, 181568.17096711,\n",
       "       270331.10210803,  80733.09966046, 218017.0885353 , 152493.66779146,\n",
       "       165919.83707674, 258316.4272082 , 150943.08089272, 209362.6336293 ,\n",
       "       126163.4937693 , 222495.99266058, 136732.38822169, 314312.77771461,\n",
       "       189570.58285318, 122447.33394217, 132243.36721623, 260743.02703457,\n",
       "       152221.61613969, 232410.9754881 , 173289.32002857, 151352.87718189,\n",
       "        83538.93758649, 262732.13702551, 203302.97585607, 122662.06046888,\n",
       "       308672.61150458, 178212.81480435, 187846.59511712, 232044.75536528,\n",
       "       176609.22938754, 127200.58796853,  92508.23705894, 116098.93755187,\n",
       "       130095.09916121, 132612.78729547, 229110.66777573, 310533.58513596,\n",
       "       125335.33570901, 128165.05301033, 177924.59243314, 351767.74424019,\n",
       "       265723.46646759, 113767.35193481, 260758.68587094, 415589.84588263,\n",
       "       328495.22758439, 189554.58336927, 225119.9846855 , 270687.65280807,\n",
       "       111388.39815628, 110746.27000915, 222943.41215592, 105339.68667028,\n",
       "       170927.07973515, 183118.22863658, 312894.31117219, 112172.72491728,\n",
       "       117874.54994993, 126749.97108069, 171672.6042304 ,  71105.98014714,\n",
       "       185032.84331927, 258183.233308  , 128794.54002128, 268155.82986466,\n",
       "       176350.61300417,  71551.29886913, 130584.76711743, 149755.65506624,\n",
       "       126201.53151567,  37988.63878754, 161873.45831822, 226888.45688083,\n",
       "       231707.80631183, 274341.31382799, 115270.29488761, 138338.12539205,\n",
       "       175176.4429176 ,  95874.56203125, 122469.20457168, 187775.22670019,\n",
       "       225640.14132598, 189450.67442129, 131191.12246111, 186237.55036719,\n",
       "       310325.47923716, 227005.43374721, 136187.21604008,  93013.31283144,\n",
       "       170823.96436641, 236486.23999969,  97452.23338955, 267577.33685439,\n",
       "       230394.78616544, 269511.02908224, 136287.64820851, 140477.35054818,\n",
       "       227466.9498911 ,  69163.47449048, 157276.09513056, 123695.03849587,\n",
       "       229333.29787033, 172736.53634651, 245834.74546788, 120120.30620108,\n",
       "       268199.79440265, 316902.88512355,  83760.3963806 , 162017.91161357,\n",
       "       123865.6888451 ,  89901.8771833 , 216610.19018643,  85479.39814044,\n",
       "       225153.01647266, 131025.08399402, 125164.46208081, 230898.77767636,\n",
       "       177714.77484944, 265737.34342088, 162281.62416021, 262880.28463147,\n",
       "       227382.99968404, 313819.79709922])"
      ]
     },
     "execution_count": 25,
     "metadata": {},
     "output_type": "execute_result"
    }
   ],
   "source": [
    "y_pred_test"
   ]
  },
  {
   "cell_type": "code",
   "execution_count": null,
   "metadata": {},
   "outputs": [],
   "source": []
  }
 ],
 "metadata": {
  "kernelspec": {
   "display_name": ".venv",
   "language": "python",
   "name": "python3"
  },
  "language_info": {
   "codemirror_mode": {
    "name": "ipython",
    "version": 3
   },
   "file_extension": ".py",
   "mimetype": "text/x-python",
   "name": "python",
   "nbconvert_exporter": "python",
   "pygments_lexer": "ipython3",
   "version": "3.10.11"
  },
  "orig_nbformat": 4
 },
 "nbformat": 4,
 "nbformat_minor": 2
}
